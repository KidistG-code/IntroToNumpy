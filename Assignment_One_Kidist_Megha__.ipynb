{
  "nbformat": 4,
  "nbformat_minor": 0,
  "metadata": {
    "colab": {
      "provenance": [],
      "authorship_tag": "ABX9TyOHJnGlB7wxKENa2PAEPIR8",
      "include_colab_link": true
    },
    "kernelspec": {
      "name": "python3",
      "display_name": "Python 3"
    },
    "language_info": {
      "name": "python"
    }
  },
  "cells": [
    {
      "cell_type": "markdown",
      "metadata": {
        "id": "view-in-github",
        "colab_type": "text"
      },
      "source": [
        "<a href=\"https://colab.research.google.com/github/KidistG-code/IntroToNumpy/blob/master/Assignment_One_Kidist_Megha__.ipynb\" target=\"_parent\"><img src=\"https://colab.research.google.com/assets/colab-badge.svg\" alt=\"Open In Colab\"/></a>"
      ]
    },
    {
      "source": [
        "import pandas as pd\n",
        "import pandas as pd\n",
        "import numpy as np\n",
        "\n",
        "dataset = pd.read_csv('/content/SAARA.csv')\n",
        "array_data = dataset.values"
      ],
      "cell_type": "code",
      "metadata": {
        "id": "8eqM7o5N5BxU"
      },
      "execution_count": 14,
      "outputs": []
    },
    {
      "source": [
        "print(array_data, dataset.head())"
      ],
      "cell_type": "code",
      "metadata": {
        "colab": {
          "base_uri": "https://localhost:8080/"
        },
        "id": "QGKk3FRL5p62",
        "outputId": "df0c7184-b23f-4173-bd2b-b08729d95125"
      },
      "execution_count": 15,
      "outputs": [
        {
          "output_type": "stream",
          "name": "stdout",
          "text": [
            "[['Beef_Dairy' 'Yearling' 0.5 ... nan nan nan]\n",
            " ['Beef_Dairy' 'Yearling' 0.5 ... nan nan nan]\n",
            " ['Beef_Dairy' 'Yearling' 0.5 ... nan nan nan]\n",
            " ...\n",
            " [nan nan nan ... nan nan nan]\n",
            " [nan nan nan ... nan nan nan]\n",
            " [nan nan nan ... nan nan nan]]         Breed Age_Group  Wild_Temperament  Feed_Freq  Num_Conc_Days  \\\n",
            "0  Beef_Dairy  Yearling               0.5        3.0          147.0   \n",
            "1  Beef_Dairy  Yearling               0.5        3.0          147.0   \n",
            "2  Beef_Dairy  Yearling               0.5        3.0          147.0   \n",
            "3  Beef_Dairy  Yearling               0.5        3.0          147.0   \n",
            "4        Beef  Yearling               0.5        3.0          125.0   \n",
            "\n",
            "   Stocking_Density   FeedBunk_Length Pre_Condn_b4_Feedlot Diet_Transn_Manag  \\\n",
            "0               95.0             41.0                  Yes              Slow   \n",
            "1               95.0             41.0                  Yes              Slow   \n",
            "2               95.0             41.0                  Yes              Slow   \n",
            "3               95.0             41.0                  Yes              Slow   \n",
            "4               95.0             41.0                  Yes              Slow   \n",
            "\n",
            "   pe_Fiber_Perc  ... Saara Unnamed: 17 Unnamed: 18  Unnamed: 19  Unnamed: 20  \\\n",
            "0           0.52  ...    No         NaN         NaN          NaN          NaN   \n",
            "1           0.52  ...    No         NaN         NaN          NaN          NaN   \n",
            "2           0.52  ...    No         NaN         NaN          NaN          NaN   \n",
            "3           0.52  ...    No         NaN         NaN          NaN          NaN   \n",
            "4           0.21  ...    No         NaN         NaN          NaN          NaN   \n",
            "\n",
            "  Unnamed: 21 Unnamed: 22  Unnamed: 23  Unnamed: 24  Unnamed: 25  \n",
            "0         NaN         NaN          NaN          NaN          NaN  \n",
            "1         NaN         NaN          NaN          NaN          NaN  \n",
            "2         NaN         NaN          NaN          NaN          NaN  \n",
            "3         NaN         NaN          NaN          NaN          NaN  \n",
            "4         NaN         NaN          NaN          NaN          NaN  \n",
            "\n",
            "[5 rows x 26 columns]\n"
          ]
        }
      ]
    },
    {
      "cell_type": "code",
      "source": [
        "in"
      ],
      "metadata": {
        "id": "TxwX5Syv_1tf"
      },
      "execution_count": null,
      "outputs": []
    },
    {
      "cell_type": "code",
      "source": [
        "print(dataset.columns)"
      ],
      "metadata": {
        "colab": {
          "base_uri": "https://localhost:8080/"
        },
        "id": "_tHAI6as8Fb2",
        "outputId": "6edf6e73-6b8e-4149-aeab-e67b31c298b3"
      },
      "execution_count": 33,
      "outputs": [
        {
          "output_type": "stream",
          "name": "stdout",
          "text": [
            "Index(['Breed', 'Age_Group', 'Wild_Temperament', 'Feed_Freq', 'Num_Conc_Days',\n",
            "       'Stocking_Density ', 'FeedBunk_Length', 'Pre_Condn_b4_Feedlot',\n",
            "       'Diet_Transn_Manag', 'pe_Fiber_Perc', 'Rumen_Modifier', 'Grain_Type',\n",
            "       'Grain_Process', 'Temperature ', 'Humidity', 'Climatic_Events', 'Saara',\n",
            "       'Unnamed: 17', 'Unnamed: 18', 'Unnamed: 19', 'Unnamed: 20',\n",
            "       'Unnamed: 21', 'Unnamed: 22', 'Unnamed: 23', 'Unnamed: 24',\n",
            "       'Unnamed: 25'],\n",
            "      dtype='object')\n"
          ]
        }
      ]
    },
    {
      "source": [
        "\n",
        "Diet_Trans_Manag_col = 'Diet_Transn_Manag'\n",
        "Grain_Process_col = 'Grain_Process'\n",
        "\n",
        "dataset.sort_values(by=[Diet_Trans_Manag_col, Grain_Process_col], ascending=True, inplace=True)"
      ],
      "cell_type": "code",
      "metadata": {
        "id": "JORNy7hkBSe8"
      },
      "execution_count": 48,
      "outputs": []
    },
    {
      "cell_type": "code",
      "source": [
        "sort_values = dataset.sort_values(by=[Diet_Trans_Manag_col, Grain_Process_col], ascending=True, inplace=True)"
      ],
      "metadata": {
        "id": "BvVmIgtWBvG7"
      },
      "execution_count": 49,
      "outputs": []
    },
    {
      "source": [
        "import pandas as pd\n",
        "\n",
        "# Assuming your DataFrame is named 'dataset'\n",
        "\n",
        "# Specify the column names for sorting\n",
        "Diet_Trans_Manag_col = 'Diet_Transn_Manag'  # Corrected column name\n",
        "Grain_Process_col = 'Grain_Process'\n",
        "\n",
        "# Sort the DataFrame in ascending order based on the specified columns\n",
        "dataset.sort_values(by=[Diet_Trans_Manag_col, Grain_Process_col], ascending=True, inplace=True)\n",
        "\n",
        "# Display the sorted DataFrame\n",
        "print(dataset)"
      ],
      "cell_type": "code",
      "metadata": {
        "colab": {
          "base_uri": "https://localhost:8080/"
        },
        "id": "r1M3hQhsCsT2",
        "outputId": "cfe87af9-6738-4ba9-87c3-7a029e2c7bf2"
      },
      "execution_count": 50,
      "outputs": [
        {
          "output_type": "stream",
          "name": "stdout",
          "text": [
            "          Breed Age_Group  Wild_Temperament  Feed_Freq  Num_Conc_Days  \\\n",
            "195        Beef    Feeder               0.8        2.0          251.0   \n",
            "196  Beef_Dairy    Feeder               0.8        2.0          251.0   \n",
            "197  Beef_Dairy    Feeder               0.8        2.0          251.0   \n",
            "198        Beef    Feeder               0.8        2.0          256.0   \n",
            "199  Beef_Dairy    Feeder               0.8        2.0          256.0   \n",
            "..          ...       ...               ...        ...            ...   \n",
            "994         NaN       NaN               NaN        NaN            NaN   \n",
            "995         NaN       NaN               NaN        NaN            NaN   \n",
            "996         NaN       NaN               NaN        NaN            NaN   \n",
            "997         NaN       NaN               NaN        NaN            NaN   \n",
            "998         NaN       NaN               NaN        NaN            NaN   \n",
            "\n",
            "     Stocking_Density   FeedBunk_Length Pre_Condn_b4_Feedlot  \\\n",
            "195              156.0             10.0                   No   \n",
            "196              156.0             10.0                   No   \n",
            "197              156.0             10.0                   No   \n",
            "198              156.0             10.0                   No   \n",
            "199              156.0             10.0                   No   \n",
            "..                 ...              ...                  ...   \n",
            "994                NaN              NaN                  NaN   \n",
            "995                NaN              NaN                  NaN   \n",
            "996                NaN              NaN                  NaN   \n",
            "997                NaN              NaN                  NaN   \n",
            "998                NaN              NaN                  NaN   \n",
            "\n",
            "    Diet_Transn_Manag  pe_Fiber_Perc  ... Saara Unnamed: 17 Unnamed: 18  \\\n",
            "195             Quick           0.11  ...   Yes         NaN         NaN   \n",
            "196             Quick           0.11  ...   Yes         NaN         NaN   \n",
            "197             Quick           0.11  ...   Yes         NaN         NaN   \n",
            "198             Quick           0.11  ...   Yes         NaN         NaN   \n",
            "199             Quick           0.11  ...   Yes         NaN         NaN   \n",
            "..                ...            ...  ...   ...         ...         ...   \n",
            "994               NaN            NaN  ...   NaN         NaN         NaN   \n",
            "995               NaN            NaN  ...   NaN         NaN         NaN   \n",
            "996               NaN            NaN  ...   NaN         NaN         NaN   \n",
            "997               NaN            NaN  ...   NaN         NaN         NaN   \n",
            "998               NaN            NaN  ...   NaN         NaN         NaN   \n",
            "\n",
            "     Unnamed: 19  Unnamed: 20 Unnamed: 21 Unnamed: 22  Unnamed: 23  \\\n",
            "195          NaN          NaN         NaN         NaN          NaN   \n",
            "196          NaN          NaN         NaN         NaN          NaN   \n",
            "197          NaN          NaN         NaN         NaN          NaN   \n",
            "198          NaN          NaN         NaN         NaN          NaN   \n",
            "199          NaN          NaN         NaN         NaN          NaN   \n",
            "..           ...          ...         ...         ...          ...   \n",
            "994          NaN          NaN         NaN         NaN          NaN   \n",
            "995          NaN          NaN         NaN         NaN          NaN   \n",
            "996          NaN          NaN         NaN         NaN          NaN   \n",
            "997          NaN          NaN         NaN         NaN          NaN   \n",
            "998          NaN          NaN         NaN         NaN          NaN   \n",
            "\n",
            "     Unnamed: 24  Unnamed: 25  \n",
            "195          NaN          NaN  \n",
            "196          NaN          NaN  \n",
            "197          NaN          NaN  \n",
            "198          NaN          NaN  \n",
            "199          NaN          NaN  \n",
            "..           ...          ...  \n",
            "994          NaN          NaN  \n",
            "995          NaN          NaN  \n",
            "996          NaN          NaN  \n",
            "997          NaN          NaN  \n",
            "998          NaN          NaN  \n",
            "\n",
            "[999 rows x 26 columns]\n"
          ]
        }
      ]
    },
    {
      "source": [
        "import pandas as pd\n",
        "import numpy as np\n",
        "\n",
        "# Assuming your DataFrame is named 'dataset' and you've loaded it\n",
        "\n",
        "# Get the underlying NumPy array\n",
        "array_data = dataset.values\n",
        "\n",
        "# Flatten in row-major order (C-style)\n",
        "row_major_flattened = array_data.flatten(order='C')\n",
        "\n",
        "# Flatten in column-major order (Fortran-style)\n",
        "col_major_flattened = array_data.flatten(order='F')\n",
        "\n",
        "# Reshape back to the original shape (optional)\n",
        "# original_shape = array_data.shape\n",
        "# reshaped_row_major = row_major_flattened.reshape(original_shape, order='C')\n",
        "# reshaped_col_major = col_major_flattened.reshape(original_shape, order='F')\n",
        "\n",
        "# Print the flattened arrays\n",
        "print(\"Row-major flattened:\", row_major_flattened)\n",
        "print(\"Column-major flattened:\", col_major_flattened)"
      ],
      "cell_type": "code",
      "metadata": {
        "colab": {
          "base_uri": "https://localhost:8080/"
        },
        "id": "rl31ObMMDBlz",
        "outputId": "05acafaa-324a-4081-d001-501d7caa9dc4"
      },
      "execution_count": 51,
      "outputs": [
        {
          "output_type": "stream",
          "name": "stdout",
          "text": [
            "Row-major flattened: ['Beef' 'Feeder' 0.8 ... nan nan nan]\n",
            "Column-major flattened: ['Beef' 'Beef_Dairy' 'Beef_Dairy' ... nan nan nan]\n"
          ]
        }
      ]
    },
    {
      "cell_type": "code",
      "source": [],
      "metadata": {
        "id": "ja4djM64B-9z"
      },
      "execution_count": null,
      "outputs": []
    },
    {
      "cell_type": "code",
      "source": [],
      "metadata": {
        "id": "Yre4v6nHDIAu"
      },
      "execution_count": null,
      "outputs": []
    }
  ]
}